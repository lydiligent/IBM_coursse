{
 "cells": [
  {
   "cell_type": "markdown",
   "id": "ea06e24b-cbde-46bf-973c-e195752dd9f2",
   "metadata": {},
   "source": [
    "# Data Science Tools and Ecosystem"
   ]
  },
  {
   "cell_type": "markdown",
   "id": "2d77cb3f-5d2c-4326-a66e-a8c2ab02ebe4",
   "metadata": {},
   "source": [
    "In this notebook, Data Science Tools and Ecosystem are summarized."
   ]
  },
  {
   "cell_type": "markdown",
   "id": "c3a53ba7-ef50-47b5-8b0a-1b45ab5e7682",
   "metadata": {},
   "source": [
    "**Objectives:**"
   ]
  },
  {
   "cell_type": "markdown",
   "id": "f2fe5e5b-0471-4fed-96cc-9bf8f4af28e6",
   "metadata": {},
   "source": [
    "- List popular languages for Data Science\n",
    "- List commonly used libraries\n",
    "- Table for Data Science Tools\n",
    "- Examples of codes"
   ]
  },
  {
   "cell_type": "markdown",
   "id": "1de79669-26dd-460f-8ebd-81c7d42fff8f",
   "metadata": {},
   "source": [
    "Some of the popular languages that Data Scientists use are:\n",
    "\n",
    "1. Python\n",
    "2. R\n",
    "3. SQL\n",
    "4. Julia\n",
    "5. JavaScript\n",
    "6. Scala\n",
    "7. PHP\n"
   ]
  },
  {
   "cell_type": "markdown",
   "id": "60860136-6935-49fd-b149-8ea5fd57dde6",
   "metadata": {},
   "source": [
    "Some of the commonly used libraries used by Data Scientists include:\n",
    "\n",
    "1. TensorFlow\n",
    "2. NumPy\n",
    "3. SciPy\n",
    "4. Pandas\n",
    "5. Matplotlib\n",
    "6. Seaborn\n",
    "7. Keras"
   ]
  },
  {
   "cell_type": "markdown",
   "id": "072fe3d7-65d8-4c56-a258-a8305490a5b1",
   "metadata": {},
   "source": [
    "| Data Science Tools |\n",
    "| --- | \n",
    "| Jupyter Notebooks | \n",
    "| R Studio | \n",
    "| Spark  | "
   ]
  },
  {
   "cell_type": "markdown",
   "id": "cd7d94c6-fa17-4153-b2a4-0472234fcdb1",
   "metadata": {},
   "source": [
    "### Below are a few examples of evaluating arithmetic expressions in Python"
   ]
  },
  {
   "cell_type": "markdown",
   "id": "db90e744-6573-41c2-a7f3-b7534b58f2d9",
   "metadata": {},
   "source": [
    "This a simple arithmetic expression to mutiply then add integers\n"
   ]
  },
  {
   "cell_type": "code",
   "execution_count": 1,
   "id": "648e832d-064b-4c9d-b10d-322f3fcaed2d",
   "metadata": {},
   "outputs": [
    {
     "data": {
      "text/plain": [
       "17"
      ]
     },
     "execution_count": 1,
     "metadata": {},
     "output_type": "execute_result"
    }
   ],
   "source": [
    "(3*4)+5"
   ]
  },
  {
   "cell_type": "markdown",
   "id": "bba6d625-dc45-4e21-a00a-44bd7eaad9b2",
   "metadata": {},
   "source": [
    "This will convert 200 minutes to hours by diving by 60"
   ]
  },
  {
   "cell_type": "code",
   "execution_count": 2,
   "id": "34f72943-9b9e-416b-acb2-e6ed47df6bba",
   "metadata": {},
   "outputs": [
    {
     "data": {
      "text/plain": [
       "3.3333333333333335"
      ]
     },
     "execution_count": 2,
     "metadata": {},
     "output_type": "execute_result"
    }
   ],
   "source": [
    "200/60"
   ]
  },
  {
   "cell_type": "markdown",
   "id": "b55f9ff3-6b30-4cf5-b6b8-1b849fb91c83",
   "metadata": {},
   "source": [
    "## Auther"
   ]
  },
  {
   "cell_type": "markdown",
   "id": "8173d616-b9ab-4529-bbdc-dfab89aed5d3",
   "metadata": {},
   "source": [
    "Yuan Li"
   ]
  },
  {
   "cell_type": "code",
   "execution_count": null,
   "id": "68bdfacd-b924-43d4-b9c3-6579437010c5",
   "metadata": {},
   "outputs": [],
   "source": []
  }
 ],
 "metadata": {
  "kernelspec": {
   "display_name": "Python",
   "language": "python",
   "name": "conda-env-python-py"
  },
  "language_info": {
   "codemirror_mode": {
    "name": "ipython",
    "version": 3
   },
   "file_extension": ".py",
   "mimetype": "text/x-python",
   "name": "python",
   "nbconvert_exporter": "python",
   "pygments_lexer": "ipython3",
   "version": "3.7.12"
  }
 },
 "nbformat": 4,
 "nbformat_minor": 5
}
